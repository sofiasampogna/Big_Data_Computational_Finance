{
 "cells": [
  {
   "cell_type": "markdown",
   "metadata": {},
   "source": [
    "# Task 1\n",
    "\n",
    "Create a new variable from trainData called “y” which takes the value = 1 if the column “loan status”\n",
    "has the value “Charged Off” and 0 otherwise. All other variables provided to you other than the loan\n",
    "status are features or “predictors”. Consider whether you would like to transform your variables; for\n",
    "example, consider converting some of the categorical variables into a continuous variable. Identify\n",
    "also the 10 most correlated and the 10 least correlated variables."
   ]
  },
  {
   "cell_type": "code",
   "execution_count": 40,
   "metadata": {},
   "outputs": [
    {
     "name": "stdout",
     "output_type": "stream",
     "text": [
      "Variables with largest absolute correlations\n",
      "loan_status                1.000000\n",
      "recoveries                 0.498850\n",
      "collection_recovery_fee    0.476387\n",
      "total_rec_prncp            0.443221\n",
      "last_pymnt_amnt            0.350412\n",
      "total_pymnt                0.319811\n",
      "total_pymnt_inv            0.319312\n",
      "int_rate                   0.261916\n",
      "grade                      0.243988\n",
      "total_rec_late_fee         0.147353\n",
      "dtype: float64\n",
      "Variables with smallest absolute correlations\n",
      "tot_coll_amt                  0.001345\n",
      "acc_now_delinq                0.004865\n",
      "mths_since_last_delinq        0.007491\n",
      "total_acc                     0.011332\n",
      "collections_12_mths_ex_med    0.012149\n",
      "emp_length                    0.014902\n",
      "revol_bal                     0.017903\n",
      "delinq_2yrs                   0.018057\n",
      "pub_rec                       0.024593\n",
      "open_acc                      0.029134\n",
      "dtype: float64\n"
     ]
    }
   ],
   "source": [
    "import pandas as pd\n",
    "\n",
    "# Load the trainData from the CSV file\n",
    "trainData = pd.read_csv('trainData.csv')\n",
    "\n",
    "#give numerical values to loan_status column\n",
    "trainData['loan_status'] = trainData['loan_status'].map({'Fully Paid': 1, 'Charged Off': 0})\n",
    "\n",
    "y = trainData['loan_status']\n",
    "\n",
    "trainData = trainData.drop('id', axis=1)\n",
    "trainData = trainData.drop('member_id', axis=1)\n",
    "\n",
    "#Give numerival values to the grade column\n",
    "trainData['grade'] = trainData['grade'].map({'A': 7, 'B': 6, 'C': 5, 'D': 4, 'E': 3})\n",
    "\n",
    "#Give numerival values to the emp_length column\n",
    "trainData['emp_length'] = trainData['emp_length'].map({'< 1 year': 1, '1 year': 2, '2 years': 3, '3 years': 4, '4 years': 5, '5 years': 6, '6 years': 7, '7 years': 8, '8 years': 9, '9 years': 10, '10+ years': 11})\n",
    "\n",
    "#Give numerival values to the home_ownership column\n",
    "trainData['home_ownership'] = trainData['home_ownership'].map({'RENT': 1, 'MORTGAGE': 2, 'OWN': 3})\n",
    "\n",
    "#give numerical values to the application_type column\n",
    "trainData['application_type'] = trainData['application_type'].map({'INDIVIDUAL': 1, 'JOINT': 2})\n",
    "\n",
    "#get all correlation of the columns with loan_status\n",
    "#print(trainData.corrwith(y))\n",
    "\n",
    "#Identify  the 10 most correlated and the 10 least correlated variables\n",
    "# Get absolute values of correlations\n",
    "correlations = trainData.corrwith(y).abs()\n",
    "\n",
    "# Identify the 10 variables with the largest absolute correlations\n",
    "print(\"Variables with largest absolute correlations\")\n",
    "print(correlations.nlargest(10))\n",
    "print(\"Variables with smallest absolute correlations\")\n",
    "print(correlations.nsmallest(10))"
   ]
  }
 ],
 "metadata": {
  "kernelspec": {
   "display_name": "Python 3",
   "language": "python",
   "name": "python3"
  },
  "language_info": {
   "codemirror_mode": {
    "name": "ipython",
    "version": 3
   },
   "file_extension": ".py",
   "mimetype": "text/x-python",
   "name": "python",
   "nbconvert_exporter": "python",
   "pygments_lexer": "ipython3",
   "version": "3.10.0"
  }
 },
 "nbformat": 4,
 "nbformat_minor": 2
}
