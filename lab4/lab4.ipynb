{
 "cells": [
  {
   "cell_type": "markdown",
   "metadata": {},
   "source": [
    "# Lab 4: Optimisation\n",
    "\n",
    "The purpose of this lab session is to study in more depth optimisation notions and use them to model and solve optimisation programs. Recall that in a previous lecture we discussed the different formats of *linear programs* and how to switch from one formutation to another. "
   ]
  },
  {
   "cell_type": "markdown",
   "metadata": {},
   "source": [
    "## 1. Verifying the model design (by revisiting tasks from lab 3)"
   ]
  },
  {
   "cell_type": "markdown",
   "metadata": {},
   "source": [
    "In the previous lab session, we discussed two examples where you were asked to model them with linear programs and solve them using python libraries.\n",
    "\n",
    "We begin by revisiting these two examples and checking their solution. Please check *lab3-files* and in particular the *How to build a model* file.  "
   ]
  },
  {
   "cell_type": "markdown",
   "metadata": {},
   "source": [
    "**Example 1 (Task 5 in Lab 3):** Click Details to recall the example."
   ]
  },
  {
   "cell_type": "markdown",
   "metadata": {},
   "source": [
    "<details>\n",
    "A company will face the following cash requirements in the next eight quarters (positive entries\n",
    "represent cash needs while negative entries represent cash surpluses). \n",
    "\n",
    "| Q1 | Q2 | Q3 | Q4 | Q5 | Q6 | Q7 | Q8 |\n",
    "| --- | --- | --- | --- | --- | --- | --- | --- |\n",
    "| 100 | 500 | 100 | -600 | -500 | 200 | 600 | -900 |\n",
    "\n",
    "The company has three borrowing possibilities.\n",
    "<ul>\n",
    "<li> a 2-year loan available at the beginning of Q1, with a 1% interest per quarter.\n",
    "<li> The other two borrowing opportunities are available at the beginning of every quarter: a 6-\n",
    "month loan with a 1.8% interest per quarter, and a quarterly loan with a 2.5% interest for the\n",
    "quarter.\n",
    "</ul>\n",
    "    \n",
    "Any surplus can be invested at a 0.5% interest per quarter. Formulate a linear program that maximises\n",
    "the wealth of the company at the beginning of Q9. Solve the problem using **linprog** and interpret the\n",
    "solution.\n",
    "</details>"
   ]
  },
  {
   "cell_type": "markdown",
   "metadata": {},
   "source": [
    "**Task 1**: Please see below for the solution and check file *How to build the model* in the *lab3-files* folder. See if the model and the implementation makes sense to you."
   ]
  },
  {
   "cell_type": "code",
   "execution_count": 1,
   "metadata": {},
   "outputs": [
    {
     "name": "stdout",
     "output_type": "stream",
     "text": [
      "Phase Iteration Minimum Slack       Constraint Residual Objective          \n",
      "1     0         NA                  1131.370849898      -900.0              \n",
      "1     1         NA                  1084.622736254      -900.0              \n",
      "1     2         NA                  879.4789725306      -900.0              \n",
      "1     3         NA                  792.3938429683      -900.0              \n",
      "1     4         NA                  727.2892907422      -900.0              \n",
      "1     5         NA                  621.5481973748      -900.0              \n",
      "1     6         NA                  434.3424603237      -900.0              \n",
      "1     7         NA                  330.5410934859      -799.0              \n",
      "1     8         NA                  299.9109874116      -768.5675148382     \n",
      "1     9         NA                  8.163514517233e-14  -461.1587527412     \n",
      "2     9         NA                  8.163514517233e-14  -461.1587527412     \n",
      "2     10        NA                  1.797546735911e-13  -468.7828125949     \n",
      "2     11        NA                  1.171857100422e-13  -471.3459717977     \n",
      "Optimization terminated successfully.\n",
      "         Current function value: -471.345972 \n",
      "         Iterations: 11\n"
     ]
    },
    {
     "name": "stderr",
     "output_type": "stream",
     "text": [
      "C:\\Users\\sofia\\AppData\\Local\\Temp\\ipykernel_20668\\1607219463.py:21: DeprecationWarning: `method='revised simplex'` is deprecated and will be removed in SciPy 1.11.0. Please use one of the HiGHS solvers (e.g. `method='highs'`) in new code.\n",
      "  res = linprog(c, A_eq=A, b_eq=b, method='revised simplex', options={\"disp\": True})\n"
     ]
    },
    {
     "data": {
      "text/plain": [
       "array([424.40992891,   0.        ,   0.        , 324.40992891,\n",
       "       178.21212073,   0.        ,   0.        ,   0.        ,\n",
       "       107.45191746,   0.        ,   0.        ,   0.        ,\n",
       "       304.19774641,   0.        ,   0.        , 801.47463585,\n",
       "         0.        ,   0.        , 601.23790974,   0.        ,\n",
       "         0.        , 471.3459718 ])"
      ]
     },
     "execution_count": 1,
     "metadata": {},
     "output_type": "execute_result"
    }
   ],
   "source": [
    "import numpy as np\n",
    "from scipy.optimize import linprog\n",
    "\n",
    "# I generate the vector of coefficients in the objective function and initialize the matrix of contraint coefficients\n",
    "c = np.concatenate([np.zeros(21), [-1]]) # Recall that linprog has a minimization objective, so we minimize -wealth\n",
    "A = np.zeros((8,22))\n",
    "\n",
    "# I create a row for each constraint\n",
    "A[0] = np.concatenate([[1,1,1,-1],np.zeros(18)])\n",
    "A[1] = np.concatenate([[-0.01, -0.018, -1.025, 1.005, 1, 1, -1],np.zeros(15)])\n",
    "A[2] = np.concatenate([[-0.01, -1.018, 0, 0, -0.018, -1.025, 1.005, 1, 1, -1],np.zeros(12)])\n",
    "A[3] = np.concatenate([[-0.01, 0, 0, 0, -1.018, 0, 0, -0.018, -1.025, 1.005, 1, 1, -1],np.zeros(9)])\n",
    "A[4] = np.concatenate([[-0.01], np.zeros(6), [-1.018, 0, 0, -0.018, -1.025, 1.005, 1, 1, -1],np.zeros(6)])\n",
    "A[5] = np.concatenate([[-0.01], np.zeros(9), [-1.018, 0, 0, -0.018, -1.025, 1.005, 1, 1, -1],np.zeros(3)])\n",
    "A[6] = np.concatenate([[-0.01], np.zeros(12), [-1.018, 0, 0, -0.018, -1.025, 1.005, 1, -1, 0]])\n",
    "A[7] = np.concatenate([[-1.01], np.zeros(15), [-1.018, 0, 0, -1.025, 1.005, -1]])\n",
    "\n",
    "b = [100, 500, 100, -600, -500, 200, 600, -900]\n",
    "\n",
    "# It is now time to solve. All variables are constrained to be non-negative, so I don't need to specify the bounds; this is the default\n",
    "res = linprog(c, A_eq=A, b_eq=b, method='revised simplex', options={\"disp\": True})\n",
    "\n",
    "# Print the solution. Recall that the wealth is the last variable. \n",
    "res.x"
   ]
  },
  {
   "cell_type": "markdown",
   "metadata": {},
   "source": [
    "**Example 2 (Task 6 in Lab 3):**  Click Details to recall the example."
   ]
  },
  {
   "cell_type": "markdown",
   "metadata": {},
   "source": [
    "<details>\n",
    "Consider a restaurant that is open seven days a week. Based on past experience, the number of workers needed on a particular day is given as follows: \n",
    "\n",
    "| Mon | Tue | Wed | Thu | Fri | Sat | Sun | \n",
    "| --- | --- | --- | --- | --- | --- | --- |\n",
    "| 14 | 13 | 15 | 16 | 19 | 18 | 11 |\n",
    "\n",
    "Every worker works five days in a week and has two days off in the following pattern: three days work, one day off, two days work, one day off. So, there are workers working on Mon-Tue-Wed-Fri-Sat, other workers on Tue-Wed-Thu-Sat-Sun, etc. How can we minimize the number of workers that staff the restaurant? \n",
    "</details>"
   ]
  },
  {
   "cell_type": "markdown",
   "metadata": {},
   "source": [
    "**Task 2**: Please see below for the solution and check file How to build the model in the lab3-files folder. See if the model and the implementation makes sense to you."
   ]
  },
  {
   "cell_type": "code",
   "execution_count": 2,
   "metadata": {},
   "outputs": [
    {
     "name": "stdout",
     "output_type": "stream",
     "text": [
      "Phase Iteration Minimum Slack       Constraint Residual Objective          \n",
      "1     0         -19.0               0.0                 0.0                 \n",
      "1     1         -15.0               0.0                 13.0                \n",
      "1     2         -14.0               0.0                 14.0                \n",
      "1     3         -6.0                0.0                 18.0                \n",
      "1     4         -6.0                0.0                 18.66666666667      \n",
      "1     5         -5.0                0.0                 19.0                \n",
      "1     6         -4.0                0.0                 20.0                \n",
      "1     7         -2.0                0.0                 22.0                \n",
      "1     8         0.0                 0.0                 22.66666666667      \n",
      "2     8         0.0                 0.0                 22.66666666667      \n",
      "Optimization terminated successfully.\n",
      "         Current function value: 22.666667   \n",
      "         Iterations: 8\n"
     ]
    },
    {
     "name": "stderr",
     "output_type": "stream",
     "text": [
      "C:\\Users\\sofia\\AppData\\Local\\Temp\\ipykernel_20668\\3311439236.py:19: DeprecationWarning: `method='revised simplex'` is deprecated and will be removed in SciPy 1.11.0. Please use one of the HiGHS solvers (e.g. `method='highs'`) in new code.\n",
      "  res = linprog(c, A_ub=A, b_ub=b, method='revised simplex', options={\"disp\": True})\n"
     ]
    },
    {
     "data": {
      "text/plain": [
       "array([7.66666667, 2.66666667, 3.66666667, 0.        , 4.        ,\n",
       "       0.        , 4.66666667])"
      ]
     },
     "execution_count": 2,
     "metadata": {},
     "output_type": "execute_result"
    }
   ],
   "source": [
    "import numpy as np\n",
    "from scipy.optimize import linprog\n",
    "\n",
    "# I generate the vector of coefficients in the objective function \n",
    "c = np.array([1,1,1,1,1,1,1])\n",
    "A = np.zeros((7,7))\n",
    "\n",
    "# I create a row for each constraint\n",
    "A[0] = np.array([-1,0,-1,-1,-1,0,-1])\n",
    "A[1] = np.array([-1,-1,0,-1,-1,-1,0])\n",
    "A[2] = np.array([0,-1,-1,0,-1,-1,-1])\n",
    "A[3] = np.array([-1,0,-1,-1,0,-1,-1])\n",
    "A[4] = np.array([-1,-1,0,-1,-1,0,-1])\n",
    "A[5] = np.array([-1,-1,-1,0,-1,-1,0])\n",
    "A[6] = np.array([0,-1,-1,-1,0,-1,-1])\n",
    "b = np.array([-14, -13, -15, -16, -19, -18, -11])\n",
    "\n",
    "# It is now time to solve. All variables are constrained to be non-negative, so I don't need to specify the bounds; this is the default\n",
    "res = linprog(c, A_ub=A, b_ub=b, method='revised simplex', options={\"disp\": True})\n",
    "\n",
    "# Print the solution. Recall that the wealth is the last variable. \n",
    "res.x"
   ]
  },
  {
   "cell_type": "markdown",
   "metadata": {},
   "source": [
    "It is clear from the solution that our model did **not** take into account the fact that the number of workers must be an *integer* number. Hence, in last week's lab  we discussed integer linear programming (see Section 5 in Lab 3)."
   ]
  },
  {
   "cell_type": "markdown",
   "metadata": {},
   "source": [
    "## 2. Testing our understanding on different LP formats and on Duality"
   ]
  },
  {
   "cell_type": "markdown",
   "metadata": {},
   "source": [
    "In the lecture of Week 18 (available also at [Listen Again](https://listenagain.essex.ac.uk/) we navigated throught different LP formats. The following couple of tasks involve transforming a linear program from one form to another.\n",
    "\n",
    "In the following, we use the convention that the **standard form** is when the objective function is a **minimization** function, all constraints are **equalities** and all variables must be **non-negative**.\n",
    "\n",
    "**Task 3:** Write the following linear program in *standard form*.\n",
    "\n",
    "\\begin{align*} \\min & \\hspace{1cm}& x_{2+} - x_{2-} \\ \n",
    "\\text{subject to} & \\hspace{1cm}&x_{1+} - x_{1-} + x_{2+} - x_{2-} - s_1 = 1\\ & \n",
    "\\hspace{1cm}&x_{1+} - x_{1-} - x_{2+} + x_{2-} + s_2 = 0\\ & \n",
    "\\hspace{1cm}&x_{1+}, x_{1-}, x_{2+}, x_{2-}, s_1, s_2 \\geq 0 \\end{align*}\n"
   ]
  },
  {
   "cell_type": "markdown",
   "metadata": {},
   "source": [
    "**Solution to Task 3:** Click on *Details* below to reveal it."
   ]
  },
  {
   "cell_type": "markdown",
   "metadata": {},
   "source": [
    "<details>\n",
    "\n",
    "Let us write $x_i = y_i-z_i$ for $i=1, 2$ with $y_i\\geq 0$, $z_i\\geq 0$ and let us introduce slack variable $s_1$ for the first constraint and $s_2$ for the second constraint. We obtain\n",
    "$$\n",
    "\\begin{align*}\n",
    "\\min & \\hspace{1cm}& y_2-z_2 \\\\\n",
    "\\text{subject to} & \\hspace{1cm}&y_1-z_1+y_2-z_2-s_1 = 1\\\\\n",
    "& \\hspace{1cm}&y_1-z_1-y_2+z_2+s_2 = 0\\\\\n",
    "& \\hspace{1cm}&y_1, z_1, y_2, z_2, s_1, s_2 \\geq 0\n",
    "\\end{align*}\n",
    "$$\n",
    "</details>"
   ]
  },
  {
   "cell_type": "markdown",
   "metadata": {},
   "source": [
    "**Task 4:** Write the following linear program in *standard form*.\n",
    "\n",
    "\\begin{align*} \\min & \\hspace{1cm}& 4x_1+x_2-x_{3+} + x_{3-} \\ \\text{subject to} &   \n",
    "\\hspace{1cm}&x_1+3x_{3+} - 3x_{3-} + s_1 = 6\\ & \\hspace{1cm}&3x_1+x_2+3x_{3+} - 3x_{3-} - s_2 = 9\\ & \\hspace{1cm}&x_1, x_2, x_{3+}, x_{3-}, s_1, s_2 \\geq 0 \\end{align*}"
   ]
  },
  {
   "cell_type": "markdown",
   "metadata": {},
   "source": [
    "**Solution to Task 4:** Click on *Details* below to reveal it."
   ]
  },
  {
   "cell_type": "markdown",
   "metadata": {},
   "source": [
    "<details>\n",
    "\n",
    "Let us write $x_3 = y_3-z_3$ with $y_3\\geq 0$, $z_3\\geq 0$ and let us introduce slack variable $s_1$ for the first constraint and $s_2$ for the second constraint. We obtain\n",
    "    \\begin{eqnarray*}\n",
    "\\min & \\hspace{1cm}& 4x_1+x_2-y_3+z_3\\\\\n",
    "\\text{subject to} & \\hspace{1cm}&x_1+3y_3-3z_3+s_1 = 6\\\\ \n",
    "& \\hspace{1cm}&3x_1+x_2+3y_3-3z_3-s_2 = 9\\\\ %Is it clear why $s_2$ appears with a negative sign?\n",
    "    & \\hspace{1cm}&x_1, x_2, y_3,z_3,s_1,s_2\\geq 0\n",
    "\\end{eqnarray*}\n",
    "</details>"
   ]
  },
  {
   "cell_type": "markdown",
   "metadata": {},
   "source": [
    "### Complementary Slackness and Optimality - An example\n",
    "\n",
    "In the most recent lecture, we discussed duality and, among other terrifying things, complementary slackness. Let's see an example.\n",
    "\n",
    "\\begin{align*} \\min & \\hspace{1cm}& -x_1 + 2x_2 -3x_3 \\ \\text{subject to} \\\\\n",
    " & \\hspace{1cm}&x_1+x_2-2x_3 + s_1 = 1\\ \\\\\n",
    " & \\hspace{1cm}&2x_1-x_2-3x_3 + s_2 = 4\\ \\\\\n",
    "  & \\hspace{1cm}&x_1+x_2+5x_3 + s_3 = 2\\ \\\\\n",
    "  & \\hspace{1cm}&x_1, x_2, x_3, s_1, s_2, s_3 \\geq 0 \\end{align*}\n",
    "\n",
    "Let's build its dual Linear Program. Observe that the LP above is a maximisation one. This should not be a problem, as we have seen that the primal and the dual LPs are two \"siblings\" where one LP is a minimisation problem while the other is a maximisation one. \n",
    "\n",
    "For variable $x_1$ of the primal LP, we obtain the constraint for the dual LP that $y_1+2y_2+y_3 \\geq 1$. This is because we multiply each constraint above with a coefficient $y_i$ that is non-negative, and we wish the total coefficient of $x_1$ in this weighted combination to be bounded from below by the coefficient of $x_1$ in the objective function of the primal LP.\n",
    "\n",
    "It is the same reasoning that gives us the additional constraints $y_1 - y_2 + y_3 \\geq -2$ and $-2y_1-3y_2+5y_3 \\geq 3$.\n",
    "Additionally, we require that $y_1, y_2, y_3 \\geq 0$.\n",
    "\n",
    "The objective function of the dual LP is now a *minimisation* function and is actually to\n",
    "\n",
    "$$\n",
    "\\begin{align*}\n",
    "\\min & \\hspace{1cm}& y_1 + 4y_2 +2y_3 \\\\\n",
    "\\end{align*}\n",
    "$$\n",
    "\n",
    "Overall, we obtain that the dual LP is \n",
    "$$\n",
    "\\begin{align*}\n",
    "\\min & \\hspace{1cm}& y_1 + 4y_2 +2y_3 \\\\\n",
    "\\text{subject to} & \\hspace{1cm}&y_1+2y_2+y_3 - s_1 = 1\\\\\n",
    "& \\hspace{1cm}&y_1 - y_2 + y_3 + s_2 = -2\\\\\n",
    "& \\hspace{1cm}&-2y_1-3y_2+5y_3 - s_3 = 3\\\\\n",
    "& \\hspace{1cm}&y_1, y_2, y_3, s_1, s_2, s_3 \\geq 0\n",
    "\\end{align*}\n",
    "$$\n",
    "\n",
    "Say someone tells us that $x^*_1 = 9/7, x^*_2 = 0, x^*_3 = 1/7$ is an optimal solution for the primal LP (the maximisation problem). Let’s try to verify that claim.\n",
    "\n",
    "At least those values satisfy the constraints! The objective value of the primal LP for these values becomes $12/7$.\n",
    "\n",
    "Now let’s see what complementary slackness would tells us about an optimal solution $y^*_1, y^*_2, y^*_3$ of the dual. \n",
    "  \n",
    "Because $x^*_1$ and $x^*_3$ are non-zero, the first and third constraints of the dual must be tight!\n",
    "That is $y^*_1+2y^*_2+y^*_3 = 1$ and $-2y^*_1-3y^*_2+5y^*_3 = 3$\n",
    " \n",
    "That’s only two equations for three unknowns! \n",
    "\n",
    "But checking the primal, we see that the alleged optimal solution shows that the second constraing in the primal is *not* tight (that is $2x^*_1-x^*_2-3x^*_3 < 4$). By complementary slackness again, this implies that $y^*_2 = 0$. Plugging that in we get the following system:\n",
    "$y^*_1 +y^*_3 = 1$ and $-2y^*_1 +5y^*_3 = 3$ whose only solution is $y^*_1 = 2/7$ and $y^*_3 = 5/7$; recall that we already established that $y^*_2 = 0$.\n",
    "\n",
    "Observe that $y^*_1+4y^*_2+2y^*_3 = 12/7$. \n",
    "This means that the primal and the dual appear to have the same value and one would think that we are done and we have verified the claim. <b>That's not entirely correct!</b>\n",
    "\n",
    "We still need to check whether the \"optimal\" values for the dual satisfy the contraints of the dual. One can check that this is indeed the case and now, finally, we can verify the claim."
   ]
  },
  {
   "cell_type": "markdown",
   "metadata": {},
   "source": [
    "## 3. Using different solvers"
   ]
  },
  {
   "cell_type": "markdown",
   "metadata": {},
   "source": [
    "### 3a. Excel SOLVER\n",
    "We now work with a solver outside Python, namely the solver embedded in the well-known Excel application. Please check the folder *lab4-files* in the CF969 moodle page."
   ]
  },
  {
   "cell_type": "markdown",
   "metadata": {},
   "source": [
    "**Task 5:** Please open the file *How to add Solver to Excel.pdf* and work through the instructions to get the Excel SOLVER add-in to work. Using the instructions, run Excel’s SOLVER on the example linear program (LP) described in the file *LP with Excel (model building).pdf*, to which *How to add Solver to Excel.pdf* also refers.\n",
    "\n",
    "**Task 6:** Solve Example 2 (Task 6 in Lab 3) using Excel SOLVER. Recall that we now need to impose the constraint for an integral solution."
   ]
  },
  {
   "cell_type": "markdown",
   "metadata": {},
   "source": [
    "**Solution to Task 6**: Check file *task6-sol.xlsx*."
   ]
  },
  {
   "cell_type": "markdown",
   "metadata": {},
   "source": [
    "### 3b. Gurobi and Gurobipy\n",
    "\n",
    "Gurobi is a powerful optimisation software. It is installed in the lab computers and we covered an example in the most recent lecture on how to use it. In case you wish to check it now, please visit slides 25 to 34 in file *CF969 - 3 - Data Driven Optimisation - Linear Programming.pptx* in the CF969 moodle page.\n",
    "\n",
    "Apart from using Gurobi on its own, we have the option to invoke Gurobi through Python, by using the *gurobipy* package.\n",
    "\n",
    "#### Installing Gurobipy\n",
    "\n",
    "To install gurobipy, please see https://support.gurobi.com/hc/en-us/articles/360044290292-How-do-I-install-Gurobi-for-Python-\n",
    "\n",
    "If your are using Horizon (https://csee-horizon.essex.ac.uk/portal/webclient/index.html), please open a command prompt and execute (while still in drive m:\\) \"m:\\python -m pip install gurobipy\" (without the quotes)\n",
    "\n",
    "\n",
    "##### Solving an Integer Linear Program with Gurobipy\n",
    "\n",
    "The following example shows how to use gurobipy to solve an integer linear program. Recall that in integer linear programs, each variable must be given an integer value. Such constraints arise quite naturally in many different settings.\n",
    "\n",
    "\n",
    "#### Task Assignment Problem formulation\n",
    "\n",
    "Consider three tasks that need to be completed: let's call them A, B, and C. \n",
    "\n",
    "Consider three users that, in principle, can do the tasks: 1, 2, and 3.\n",
    "\n",
    "#### Data \n",
    "\n",
    "The ability to perform each task is as follows: User 1 can execute task A with quality 0.53, task B with quality 0.27 and task C with quality 0.13. Similarly, user 2 has 0.8 for task A, 0.47 for task B, and 0.67 for task C, and finally, user 3 has 0.53 for task A, 0.73 for task B, and 0.47 for task C.\n",
    "\n",
    "**Assumption**: Only one user can be assigned to a task, and each user must execute at most one task.\n",
    "\n",
    "#### Problem statement\n",
    "\n",
    "Determine an assignment that ensures that each task is executed and each user executes at most one tasks in order to maximize the total quality of the tasks executed according to the assignment.\n",
    "\n",
    "#### Decision variables\n",
    "\n",
    "The decision variable $x_{r,\\; j} = 1$ represents that user r is assigned to task j, and 0 otherwise, for  r=1,2,3 and 𝑗=1,2,3.\n",
    "\n",
    "#### Constraints\n",
    "\n",
    "#### Jobs constraints\n",
    "\n",
    "For each task 𝑗=A,B,C, exactly one user from r=1,2,3 must be assigned.\n",
    "\n",
    "Constraint (A=1): $x_{1,\\; A} + x_{2,\\; 1} + x_{3,\\; 1} = 1$\n",
    "\n",
    "Constraint (B=2): $x_{1,\\; 2} + x_{2,\\; 2} + x_{3,\\; 2} = 1$\n",
    "\n",
    "Constraint (C=3): $x_{1,\\; 3} + x_{2,\\; 3} + x_{3,\\; 3} = 1$\n",
    "\n",
    "#### Resources constraints\n",
    "\n",
    "For each user r=1,2,3, at most one task from j=A,B,C can be assigned.\n",
    "\n",
    "Constraint (user 1): $x_{1,\\; 1} + x_{1,\\; 2} + x_{1,\\; 3}  \\leq 1$\n",
    "\n",
    "Constraint (user 2): $x_{2,\\; 1} + x_{2,\\; 2} + x_{2,\\; 3}  \\leq 1$\n",
    "\n",
    "Constraint (user 3): $x_{2,\\; 1} + x_{2,\\; 2} + x_{2,\\; 3}  \\leq 1$\n",
    "\n",
    "#### Objective function\n",
    "\n",
    "The objective function is to maximize the total quality of the assignments while satisfying the user and task constraints.\n",
    "\n",
    "$$\n",
    "\\max \\; (53x_{1,\\; 1} + 80x_{2,\\; 1} + 53x_{3,\\; 1}) + (27x_{1,\\; 2} + 47x_{2,\\; 2} + 73x_{3,\\; 2})\n",
    "+ (13x_{1,\\; 3} + 67x_{2,\\; 3} + 47x_{3,\\; 3})\n",
    "$$\n",
    "\n",
    "\n"
   ]
  },
  {
   "cell_type": "code",
   "execution_count": 4,
   "metadata": {},
   "outputs": [
    {
     "name": "stderr",
     "output_type": "stream",
     "text": [
      "WARNING: Ignoring invalid distribution -atplotlib (c:\\users\\sofia\\appdata\\local\\programs\\python\\python310\\lib\\site-packages)\n",
      "WARNING: Ignoring invalid distribution -atplotlib (c:\\users\\sofia\\appdata\\local\\programs\\python\\python310\\lib\\site-packages)\n",
      "\n",
      "[notice] A new release of pip is available: 23.3.2 -> 24.0\n",
      "[notice] To update, run: python.exe -m pip install --upgrade pip\n"
     ]
    },
    {
     "name": "stdout",
     "output_type": "stream",
     "text": [
      "Collecting gurobipy\n",
      "  Downloading gurobipy-11.0.0-cp310-cp310-win_amd64.whl.metadata (16 kB)\n",
      "Downloading gurobipy-11.0.0-cp310-cp310-win_amd64.whl (10.2 MB)\n",
      "   ---------------------------------------- 0.0/10.2 MB ? eta -:--:--\n",
      "   - -------------------------------------- 0.5/10.2 MB 10.2 MB/s eta 0:00:01\n",
      "   ------ --------------------------------- 1.7/10.2 MB 18.6 MB/s eta 0:00:01\n",
      "   -------- ------------------------------- 2.1/10.2 MB 15.0 MB/s eta 0:00:01\n",
      "   ----------- ---------------------------- 2.9/10.2 MB 15.2 MB/s eta 0:00:01\n",
      "   ------------ --------------------------- 3.1/10.2 MB 13.4 MB/s eta 0:00:01\n",
      "   ------------ --------------------------- 3.1/10.2 MB 13.4 MB/s eta 0:00:01\n",
      "   ------------ --------------------------- 3.1/10.2 MB 13.4 MB/s eta 0:00:01\n",
      "   ------------ --------------------------- 3.1/10.2 MB 13.4 MB/s eta 0:00:01\n",
      "   ------------ --------------------------- 3.1/10.2 MB 13.4 MB/s eta 0:00:01\n",
      "   ------------ --------------------------- 3.1/10.2 MB 13.4 MB/s eta 0:00:01\n",
      "   ------------ --------------------------- 3.1/10.2 MB 13.4 MB/s eta 0:00:01\n",
      "   -------------- ------------------------- 3.6/10.2 MB 6.4 MB/s eta 0:00:02\n",
      "   -------------- ------------------------- 3.6/10.2 MB 6.4 MB/s eta 0:00:02\n",
      "   -------------- ------------------------- 3.6/10.2 MB 5.7 MB/s eta 0:00:02\n",
      "   -------------- ------------------------- 3.6/10.2 MB 5.7 MB/s eta 0:00:02\n",
      "   -------------- ------------------------- 3.6/10.2 MB 5.7 MB/s eta 0:00:02\n",
      "   -------------- ------------------------- 3.6/10.2 MB 5.7 MB/s eta 0:00:02\n",
      "   -------------- ------------------------- 3.6/10.2 MB 5.7 MB/s eta 0:00:02\n",
      "   -------------- ------------------------- 3.6/10.2 MB 5.7 MB/s eta 0:00:02\n",
      "   -------------- ------------------------- 3.6/10.2 MB 5.7 MB/s eta 0:00:02\n",
      "   -------------- ------------------------- 3.6/10.2 MB 5.7 MB/s eta 0:00:02\n",
      "   -------------- ------------------------- 3.7/10.2 MB 3.6 MB/s eta 0:00:02\n",
      "   -------------- ------------------------- 3.7/10.2 MB 3.6 MB/s eta 0:00:02\n",
      "   -------------- ------------------------- 3.7/10.2 MB 3.6 MB/s eta 0:00:02\n",
      "   -------------- ------------------------- 3.7/10.2 MB 3.6 MB/s eta 0:00:02\n",
      "   -------------- ------------------------- 3.7/10.2 MB 3.6 MB/s eta 0:00:02\n",
      "   -------------- ------------------------- 3.7/10.2 MB 3.6 MB/s eta 0:00:02\n",
      "   -------------- ------------------------- 3.7/10.2 MB 3.6 MB/s eta 0:00:02\n",
      "   -------------- ------------------------- 3.7/10.2 MB 3.6 MB/s eta 0:00:02\n",
      "   -------------- ------------------------- 3.7/10.2 MB 2.6 MB/s eta 0:00:03\n",
      "   -------------- ------------------------- 3.7/10.2 MB 2.6 MB/s eta 0:00:03\n",
      "   -------------- ------------------------- 3.7/10.2 MB 2.6 MB/s eta 0:00:03\n",
      "   -------------- ------------------------- 3.7/10.2 MB 2.6 MB/s eta 0:00:03\n",
      "   -------------- ------------------------- 3.7/10.2 MB 2.6 MB/s eta 0:00:03\n",
      "   -------------- ------------------------- 3.7/10.2 MB 2.3 MB/s eta 0:00:03\n",
      "   ----------------- ---------------------- 4.4/10.2 MB 2.6 MB/s eta 0:00:03\n",
      "   ------------------ --------------------- 4.8/10.2 MB 2.8 MB/s eta 0:00:02\n",
      "   ----------------------- ---------------- 6.1/10.2 MB 3.4 MB/s eta 0:00:02\n",
      "   --------------------------- ------------ 7.0/10.2 MB 3.8 MB/s eta 0:00:01\n",
      "   ------------------------------ --------- 7.9/10.2 MB 4.2 MB/s eta 0:00:01\n",
      "   --------------------------------- ------ 8.6/10.2 MB 4.5 MB/s eta 0:00:01\n",
      "   ------------------------------------ --- 9.4/10.2 MB 4.8 MB/s eta 0:00:01\n",
      "   ------------------------------------ --- 9.4/10.2 MB 4.8 MB/s eta 0:00:01\n",
      "   ------------------------------------ --- 9.4/10.2 MB 4.8 MB/s eta 0:00:01\n",
      "   ------------------------------------ --- 9.4/10.2 MB 4.8 MB/s eta 0:00:01\n",
      "   ------------------------------------ --- 9.4/10.2 MB 4.8 MB/s eta 0:00:01\n",
      "   ------------------------------------ --- 9.4/10.2 MB 4.8 MB/s eta 0:00:01\n",
      "   ------------------------------------ --- 9.4/10.2 MB 4.8 MB/s eta 0:00:01\n",
      "   ---------------------------------------  10.1/10.2 MB 4.4 MB/s eta 0:00:01\n",
      "   ---------------------------------------  10.2/10.2 MB 4.4 MB/s eta 0:00:01\n",
      "   ---------------------------------------  10.2/10.2 MB 4.4 MB/s eta 0:00:01\n",
      "   ---------------------------------------  10.2/10.2 MB 4.4 MB/s eta 0:00:01\n",
      "   ---------------------------------------  10.2/10.2 MB 4.4 MB/s eta 0:00:01\n",
      "   ---------------------------------------  10.2/10.2 MB 4.4 MB/s eta 0:00:01\n",
      "   ---------------------------------------  10.2/10.2 MB 4.4 MB/s eta 0:00:01\n",
      "   ---------------------------------------  10.2/10.2 MB 4.4 MB/s eta 0:00:01\n",
      "   ---------------------------------------  10.2/10.2 MB 4.4 MB/s eta 0:00:01\n",
      "   ---------------------------------------  10.2/10.2 MB 4.4 MB/s eta 0:00:01\n",
      "   ---------------------------------------  10.2/10.2 MB 4.4 MB/s eta 0:00:01\n",
      "   ---------------------------------------  10.2/10.2 MB 4.4 MB/s eta 0:00:01\n",
      "   ---------------------------------------  10.2/10.2 MB 4.4 MB/s eta 0:00:01\n",
      "   ---------------------------------------  10.2/10.2 MB 3.5 MB/s eta 0:00:01\n",
      "   ---------------------------------------- 10.2/10.2 MB 3.5 MB/s eta 0:00:00\n",
      "Installing collected packages: gurobipy\n",
      "Successfully installed gurobipy-11.0.0\n"
     ]
    }
   ],
   "source": [
    "!python -m pip install gurobipy --user\n",
    "# import gurobi library\n",
    "from gurobipy import *"
   ]
  },
  {
   "cell_type": "markdown",
   "metadata": {},
   "source": [
    "## Data\n",
    "The list R contains the id's of the three users: 1, 2, and 3. \n",
    "\n",
    "The list J contains the names of the tasks: A, B, and C."
   ]
  },
  {
   "cell_type": "code",
   "execution_count": 5,
   "metadata": {},
   "outputs": [],
   "source": [
    "# resources and jobs sets\n",
    "R = ['1', '2', '3']\n",
    "J = ['A', 'B', 'C']"
   ]
  },
  {
   "cell_type": "markdown",
   "metadata": {},
   "source": [
    "$r \\in R$ index and set of users.\n",
    "\n",
    "$j \\in J$ index and set of tasks.\n",
    "\n",
    "The following “multidict” function describes the quality score associated with each possible combination of a user and a task"
   ]
  },
  {
   "cell_type": "code",
   "execution_count": 6,
   "metadata": {},
   "outputs": [],
   "source": [
    "# matching score data\n",
    "combinations, ms = multidict({\n",
    "    ('1', 'A'): 53,\n",
    "    ('1', 'B'): 27,\n",
    "    ('1', 'C'): 13,\n",
    "    ('2', 'A'): 80,\n",
    "    ('2', 'B'): 47,\n",
    "    ('2', 'C'): 67,\n",
    "    ('3', 'A'): 53,\n",
    "    ('3', 'B'): 73,\n",
    "    ('3', 'C'): 47\n",
    "})"
   ]
  },
  {
   "cell_type": "markdown",
   "metadata": {},
   "source": [
    "The following function generates an empty model object “m” and takes the string “RAP” model name as its argument."
   ]
  },
  {
   "cell_type": "code",
   "execution_count": 7,
   "metadata": {},
   "outputs": [
    {
     "name": "stdout",
     "output_type": "stream",
     "text": [
      "Restricted license - for non-production use only - expires 2025-11-24\n"
     ]
    }
   ],
   "source": [
    "# Declare and initialize model\n",
    "m = Model('RAP')"
   ]
  },
  {
   "cell_type": "markdown",
   "metadata": {},
   "source": [
    "## Decision variables\n",
    "\n",
    "The decision variable $x_{r,\\; j} = 1$ represents that user r is assigned to task j, and 0 otherwise, for $r \\in R$ and $j \\in J $.\n",
    "\n",
    "The “addVars()” method defines the decision variables of the model object “m”.  "
   ]
  },
  {
   "cell_type": "code",
   "execution_count": 8,
   "metadata": {},
   "outputs": [],
   "source": [
    "# Create decision variables for the RAP model\n",
    "x = m.addVars(combinations, vtype=GRB.INTEGER, name=\"assign\")"
   ]
  },
  {
   "cell_type": "markdown",
   "metadata": {},
   "source": [
    "## Task constraints\n",
    "\n",
    "For each task 𝑗= A,B,C, exactly one user from r=1,2,3 must be assigned.\n",
    "\n",
    "Constraint (A=1): $x_{1,\\; 1} + x_{2,\\; 1} + x_{3,\\; 1} = 1$\n",
    "\n",
    "Constraint (B=2): $x_{1,\\; 2} + x_{2,\\; 2} + x_{3,\\; 2} = 1$\n",
    "\n",
    "Constraint (C=3): $x_{1,\\; 3} + x_{2,\\; 3} + x_{3,\\; 3} = 1$\n",
    "\n",
    "The “addConstrs()” method defines the constraints of the model object “m”. \n"
   ]
  },
  {
   "cell_type": "code",
   "execution_count": 9,
   "metadata": {},
   "outputs": [],
   "source": [
    "# create tasks  constraints\n",
    "job = m.addConstrs((x.sum('*',j) == 1 for j in J), 'task')"
   ]
  },
  {
   "cell_type": "markdown",
   "metadata": {},
   "source": [
    "## User constraints\n",
    "\n",
    "For each user r=1,2,3, at most one task from r=1,2,3 can be assigned.\n",
    "\n",
    "Constraint (1): $x_{1,\\; 1} + x_{1,\\; 2} + x_{1,\\; 3}  \\leq 1$\n",
    "\n",
    "Constraint (2): $x_{2,\\; 1} + x_{2,\\; 2} + x_{2,\\; 3}  \\leq 1$\n",
    "\n",
    "Constraint (3): $x_{3,\\; 1} + x_{3,\\; 2} + x_{3,\\; 3}  \\leq 1$\n",
    "\n",
    "The “addConstrs()” method defines the constraints of the model object “m”. "
   ]
  },
  {
   "cell_type": "code",
   "execution_count": 10,
   "metadata": {},
   "outputs": [],
   "source": [
    "# create resources constraints\n",
    "resource = m.addConstrs((x.sum(r,'*') <= 1 for r in R), 'user')"
   ]
  },
  {
   "cell_type": "markdown",
   "metadata": {},
   "source": [
    "## Objective Function\n",
    "\n",
    "The objective function is to maximize the total quality score of the assignments.\n",
    "\n",
    "$$\n",
    "Max \\; (53x_{1,\\; 1} + 80x_{2,\\; 1} + 53x_{3,\\; 1}) + (27x_{1,\\; 2} + 47x_{2,\\; 2} + 73x_{3,\\; 2})\n",
    "+ (13x_{1,\\; 3} + 67x_{2,\\; 3} + 47x_{3,\\; 3})\n",
    "$$\n",
    "\n",
    "The “setObjective()” method defines the objective function of the model object “m”. "
   ]
  },
  {
   "cell_type": "code",
   "execution_count": 11,
   "metadata": {},
   "outputs": [],
   "source": [
    "# The objective is to maximize total matching score of the assignments\n",
    "m.setObjective(x.prod(ms), GRB.MAXIMIZE)"
   ]
  },
  {
   "cell_type": "markdown",
   "metadata": {},
   "source": [
    "## Objective function\n",
    "Notice that \n",
    "$$\n",
    "(53x_{1,\\; 1} + 80x_{2,\\; 1} + 53x_{3,\\; 1}) = \\sum_{r \\; \\in \\; R} ms_{r,1}x_{r,1} \n",
    "(27x_{1,\\; 2} + 47x_{2,\\; 2} + 73x_{3,\\; 2}) = \\sum_{r \\; \\in \\; R} ms_{r,2}x_{r,2} \\\\\n",
    "(13x_{1,\\; 3} + 67x_{2,\\; 3} + 47x_{3,\\; 3})  = \\sum_{r \\; \\in \\; R} ms_{r,3}x_{r,3}\n",
    "$$\n",
    "\n",
    "Hence, the objective function can be expressed as follows\n",
    "\n",
    "$$\n",
    "Max \\; \\sum_{j \\; \\in \\; J} \\sum_{r \\; \\in \\; R} ms_{r,j}x_{r,j}\n",
    "$$"
   ]
  },
  {
   "cell_type": "code",
   "execution_count": 12,
   "metadata": {},
   "outputs": [],
   "source": [
    "# save model for inspection\n",
    "m.write('RAP.lp')"
   ]
  },
  {
   "cell_type": "code",
   "execution_count": 13,
   "metadata": {},
   "outputs": [
    {
     "name": "stdout",
     "output_type": "stream",
     "text": [
      "Gurobi Optimizer version 11.0.0 build v11.0.0rc2 (win64 - Windows 11.0 (22621.2))\n",
      "\n",
      "CPU model: Intel(R) Core(TM) i7-1065G7 CPU @ 1.30GHz, instruction set [SSE2|AVX|AVX2|AVX512]\n",
      "Thread count: 4 physical cores, 8 logical processors, using up to 8 threads\n",
      "\n",
      "Optimize a model with 6 rows, 9 columns and 18 nonzeros\n",
      "Model fingerprint: 0x6de72f01\n",
      "Variable types: 0 continuous, 9 integer (0 binary)\n",
      "Coefficient statistics:\n",
      "  Matrix range     [1e+00, 1e+00]\n",
      "  Objective range  [1e+01, 8e+01]\n",
      "  Bounds range     [0e+00, 0e+00]\n",
      "  RHS range        [1e+00, 1e+00]\n",
      "Presolve time: 0.01s\n",
      "Presolved: 6 rows, 9 columns, 18 nonzeros\n",
      "Variable types: 0 continuous, 9 integer (9 binary)\n",
      "Found heuristic solution: objective 193.0000000\n",
      "\n",
      "Root relaxation: cutoff, 0 iterations, 0.00 seconds (0.00 work units)\n",
      "\n",
      "Explored 1 nodes (0 simplex iterations) in 0.05 seconds (0.00 work units)\n",
      "Thread count was 8 (of 8 available processors)\n",
      "\n",
      "Solution count 1: 193 \n",
      "\n",
      "Optimal solution found (tolerance 1.00e-04)\n",
      "Best objective 1.930000000000e+02, best bound 1.930000000000e+02, gap 0.0000%\n"
     ]
    }
   ],
   "source": [
    "# run optimization engine\n",
    "m.optimize()"
   ]
  },
  {
   "cell_type": "code",
   "execution_count": 14,
   "metadata": {},
   "outputs": [
    {
     "name": "stdout",
     "output_type": "stream",
     "text": [
      "assign[1,A]: 1.0\n",
      "assign[2,C]: 1.0\n",
      "assign[3,B]: 1.0\n",
      "Total quality score: 193.0\n"
     ]
    }
   ],
   "source": [
    "def print_solution(model):\n",
    "    for var in model.getVars():\n",
    "        if abs(var.x) > 1e-6:\n",
    "            print(\"{0}: {1}\".format(var.varName, var.x))\n",
    "    print('Total quality score: {0}'.format(model.objVal))\n",
    "    return None\n",
    "\n",
    "# display optimal values of decision variables\n",
    "print_solution(m)   \n"
   ]
  },
  {
   "cell_type": "markdown",
   "metadata": {},
   "source": [
    "**Task 7:** Solve Example 1 using gurobipy"
   ]
  },
  {
   "cell_type": "markdown",
   "metadata": {},
   "source": [
    "**Solution to Task 7:** See the next snippet. Uncomment the line and run it."
   ]
  },
  {
   "cell_type": "code",
   "execution_count": 15,
   "metadata": {},
   "outputs": [
    {
     "name": "stdout",
     "output_type": "stream",
     "text": [
      "Gurobi Optimizer version 11.0.0 build v11.0.0rc2 (win64 - Windows 11.0 (22621.2))\n",
      "\n",
      "CPU model: Intel(R) Core(TM) i7-1065G7 CPU @ 1.30GHz, instruction set [SSE2|AVX|AVX2|AVX512]\n",
      "Thread count: 4 physical cores, 8 logical processors, using up to 8 threads\n",
      "\n",
      "Optimize a model with 8 rows, 22 columns and 55 nonzeros\n",
      "Model fingerprint: 0x4315981a\n",
      "Coefficient statistics:\n",
      "  Matrix range     [1e-02, 1e+00]\n",
      "  Objective range  [1e+00, 1e+00]\n",
      "  Bounds range     [0e+00, 0e+00]\n",
      "  RHS range        [1e+02, 9e+02]\n",
      "Presolve time: 0.01s\n",
      "Presolved: 8 rows, 22 columns, 55 nonzeros\n",
      "\n",
      "Iteration    Objective       Primal Inf.    Dual Inf.      Time\n",
      "       0    1.0000000e+30   1.951220e+30   1.000000e+00      0s\n",
      "      13    4.7134597e+02   0.000000e+00   0.000000e+00      0s\n",
      "\n",
      "Solved in 13 iterations and 0.02 seconds (0.00 work units)\n",
      "Optimal objective  4.713459718e+02\n",
      "[424.40992891   0.           0.         324.40992891 178.21212073\n",
      "   0.           0.           0.         107.45191746   0.\n",
      "   0.           0.         304.19774641   0.           0.\n",
      " 801.47463585   0.           0.         601.23790974   0.\n",
      "   0.         471.3459718 ]\n"
     ]
    }
   ],
   "source": [
    "# %load ./sol7.py\n",
    "import numpy as np\n",
    "from gurobipy import *\n",
    "from gurobipy import GRB\n",
    "\n",
    "# Declare and initialize model\n",
    "m = Model('Task 7')\n",
    "\n",
    "# Add variables\n",
    "x = m.addMVar(shape=22, vtype=GRB.CONTINUOUS, name=\"x\")\n",
    "\n",
    "# Create matrix A\n",
    "A = np.zeros((8,22))\n",
    "\n",
    "# I create a row for each constraint\n",
    "A[0] = np.concatenate([[1,1,1,-1],np.zeros(18)])\n",
    "A[1] = np.concatenate([[-0.01, -0.018, -1.025, 1.005, 1, 1, -1],np.zeros(15)])\n",
    "A[2] = np.concatenate([[-0.01, -1.018, 0, 0, -0.018, -1.025, 1.005, 1, 1, -1],np.zeros(12)])\n",
    "A[3] = np.concatenate([[-0.01, 0, 0, 0, -1.018, 0, 0, -0.018, -1.025, 1.005, 1, 1, -1],np.zeros(9)])\n",
    "A[4] = np.concatenate([[-0.01], np.zeros(6), [-1.018, 0, 0, -0.018, -1.025, 1.005, 1, 1, -1],np.zeros(6)])\n",
    "A[5] = np.concatenate([[-0.01], np.zeros(9), [-1.018, 0, 0, -0.018, -1.025, 1.005, 1, 1, -1],np.zeros(3)])\n",
    "A[6] = np.concatenate([[-0.01], np.zeros(12), [-1.018, 0, 0, -0.018, -1.025, 1.005, 1, -1, 0]])\n",
    "A[7] = np.concatenate([[-1.01], np.zeros(15), [-1.018, 0, 0, -1.025, 1.005, -1]])\n",
    "\n",
    "# The right-hand-side constants\n",
    "rhs = np.array([100, 500, 100, -600, -500, 200, 600, -900])\n",
    "\n",
    "# Adding the constraints\n",
    "m.addConstr(A @ x == rhs, name=\"c\")\n",
    "\n",
    "# Setting the objective function. Here, I can be flexible and define a maximization problem, unlike in linprog\n",
    "obj = np.concatenate([[0]*21,[1]])\n",
    "m.setObjective(obj @ x, GRB.MAXIMIZE)\n",
    "\n",
    "m.optimize()\n",
    "print(x.X)"
   ]
  },
  {
   "cell_type": "markdown",
   "metadata": {},
   "source": [
    "## 4. Quadratic programming - Portfolio optimisation"
   ]
  },
  {
   "cell_type": "markdown",
   "metadata": {},
   "source": [
    "So far we have considered linear programs, that is, the objective function was a linear function and so are the constraints. We now turn our attention to a more general class of programs, where the objective function can be a quadratic function. \n",
    "\n",
    "In a previous lecture we discussed Markowitz's [portfolio optimisation](https://en.wikipedia.org/wiki/Markowitz_model) problem. In that, we want to find the fraction of the portfolio to invest among a set of stocks that balances risk and return. It is a Quadratic Programming (QP) model with vector and matrix data for returns and risk, respectively.  \n",
    "\n",
    "The discussion below is slightly adapted from https://www.gurobi.com/jupyter_models/portfolio-selection-optimization/.\n",
    "\n",
    "\n",
    "## Model Formulation\n",
    "### Parameters\n",
    "\n",
    "We use the following notation:\n",
    "\n",
    "- $\\mathbf{\\mu}$: n-element vector denoting the return for each stock\n",
    "- $Q$: n x n matrix measuring the covariance among stocks. In the lecture, we modelled $q_{ij}$ as $q_{ij} = \\rho_{ij}\\sigma_i\\sigma_j$, where $\\rho_{ij}$ is the *correlation coefficient* and $\\sigma_i, \\sigma_j$ are the *standard deviations* for stocks $i$ and $j$ respectively.\n",
    "\n",
    "There is one additional parameter when solving the model parametrically:\n",
    "\n",
    "- R: target return\n",
    "\n",
    "\n",
    "### Decision Variables\n",
    "- $x \\ge 0$: n-element vector where each element represents the fraction of the portfolio to invest in each stock\n",
    "\n",
    "### Objective Function\n",
    "Minimize the total risk, a convex quadratic function:\n",
    "\n",
    "\\begin{equation}\n",
    "\\min x^T Q x\n",
    "\\end{equation}\n",
    "\n",
    "### Constraints\n",
    "\n",
    "Allocate the entire portfolio: the total investments should be 1.0 (100%), where $\\mathbf{1}$ is a unit vector (all 1's):\n",
    "\n",
    "\\begin{equation}\n",
    "\\mathbf{1}^T  x = 1\n",
    "\\end{equation}\n",
    "\n",
    "\n",
    "Return: In the lecture we set a constraint that the target return should be at least $R$. When we solve the model parametrically for different return values $r$, we add an equality constraint on the target return:\n",
    "\n",
    "\\begin{equation}\n",
    "\\mathbf{\\mu} x = R\n",
    "\\end{equation}"
   ]
  },
  {
   "cell_type": "markdown",
   "metadata": {},
   "source": [
    "## Python Implementation\n",
    "### Stock data\n",
    "Use [yfinance](https://pypi.org/project/yfinance/) library to get the latest 2 years of _actual stock data_ from the 20 most profitable US companies, [according to Wikipedia](https://en.wikipedia.org/wiki/List_of_largest_companies_in_the_United_States_by_revenue#List_of_companies_by_profit)."
   ]
  },
  {
   "cell_type": "code",
   "execution_count": null,
   "metadata": {},
   "outputs": [],
   "source": [
    "%pip install gurobipy yfinance"
   ]
  },
  {
   "cell_type": "code",
   "execution_count": null,
   "metadata": {},
   "outputs": [],
   "source": [
    "import yfinance as yf\n",
    "\n",
    "stocks = ['BRK-A', 'AAPL', 'MSFT', 'JPM', 'GOOG', 'BAC', 'INTC', 'WFC',\n",
    "          'C', 'VZ', 'PFE', 'JNJ', 'META', 'F', 'GS', 'XOM',\n",
    "          'FNMA', 'T', 'UNH', 'V' ]\n",
    "\n",
    "data = yf.download(stocks, period='2y')"
   ]
  },
  {
   "cell_type": "markdown",
   "metadata": {},
   "source": [
    "### Compute return and covariance\n",
    "\n",
    "Using the downloaded stock data, find $\\mu$ (return), $Q$ (covariance) and standard deviation values for stock prices:"
   ]
  },
  {
   "cell_type": "code",
   "execution_count": null,
   "metadata": {},
   "outputs": [],
   "source": [
    "import numpy as np\n",
    "\n",
    "closes = np.transpose(np.array(data.Close)) # matrix of daily closing prices\n",
    "absdiff = np.diff(closes)                   # change in closing price each day\n",
    "reldiff = np.divide(absdiff, closes[:,:-1]) # relative change in daily closing price\n",
    "mu = np.mean(reldiff, axis=1)            # mean price change\n",
    "Q = np.cov(reldiff)                     # covariance (standard deviations)\n",
    "std = np.std(reldiff, axis=1)               # standard deviation"
   ]
  },
  {
   "cell_type": "markdown",
   "metadata": {},
   "source": [
    "## Minimise risk by solving QP model"
   ]
  },
  {
   "cell_type": "code",
   "execution_count": null,
   "metadata": {},
   "outputs": [],
   "source": [
    "import gurobipy as gp\n",
    "from gurobipy import GRB\n",
    "from math import sqrt\n",
    "\n",
    "# Create an empty model\n",
    "m = gp.Model('portfolio')\n",
    "\n",
    "# Add matrix variable for the stocks\n",
    "x = m.addMVar(len(stocks))\n",
    "\n",
    "# The objective is to minimise risk (squared).  This is modeled using the\n",
    "# covariance matrix, which measures the historical correlation between stocks\n",
    "portfolio_risk = x @ Q @ x\n",
    "m.setObjective(portfolio_risk, GRB.MINIMIZE)\n",
    "\n",
    "# Fix budget with an equality constraint\n",
    "m.addConstr(x.sum() == 1, 'budget')\n",
    "\n",
    "# Verify model formulation\n",
    "m.write('portfolio_selection_optimization.lp')\n",
    "\n",
    "# Optimize model to find the minimum risk portfolio\n",
    "m.optimize()"
   ]
  },
  {
   "cell_type": "markdown",
   "metadata": {},
   "source": [
    "**Task 8:** What have we computed above? Is there something \"missing\" from the quadratic program?\n",
    "**Solution** Click on *Details* below to reveal it."
   ]
  },
  {
   "cell_type": "markdown",
   "metadata": {},
   "source": [
    "<details>\n",
    "    There is no constraint on the expected return. In effect, we are computing the minimum risk portfolio without any interest in our return.\n",
    "</details>"
   ]
  },
  {
   "cell_type": "markdown",
   "metadata": {},
   "source": [
    "## Display minimum risk portfolio using Pandas"
   ]
  },
  {
   "cell_type": "code",
   "execution_count": null,
   "metadata": {},
   "outputs": [],
   "source": [
    "import pandas as pd\n",
    "minrisk_volatility = sqrt(m.ObjVal)\n",
    "minrisk_return = mu @ x.X # the notation <variable name>.X returns the value of the variable\n",
    "pd.DataFrame(data=np.append(x.X, [minrisk_volatility, minrisk_return]),\n",
    "             index=stocks + ['Volatility', 'Expected Return'],\n",
    "             columns=['Minimum Risk Portfolio'])"
   ]
  },
  {
   "cell_type": "markdown",
   "metadata": {},
   "source": [
    "## Compute the [efficient frontier](https://en.wikipedia.org/wiki/Efficient_frontier)\n",
    "\n",
    "Solve the QP parametrically to find the lowest risk portfolio for different expected returns.\n"
   ]
  },
  {
   "cell_type": "code",
   "execution_count": null,
   "metadata": {},
   "outputs": [],
   "source": [
    "# Create an expression representing the expected return for the portfolio\n",
    "portfolio_return = mu @ x\n",
    "target = m.addConstr(portfolio_return == minrisk_return, 'target')\n",
    "\n",
    "# Solve for efficient frontier by varying target return\n",
    "frontier = np.empty((2,0))\n",
    "for r in np.linspace(mu.min(), mu.max(), 25):\n",
    "    target.rhs = r\n",
    "    m.optimize()\n",
    "    frontier = np.append(frontier, [[sqrt(m.ObjVal)],[r]], axis=1)"
   ]
  },
  {
   "cell_type": "markdown",
   "metadata": {},
   "source": [
    "## Plot results\n",
    "Use the matplot library to plot the optimized solutions, along with the individual stocks:"
   ]
  },
  {
   "cell_type": "code",
   "execution_count": null,
   "metadata": {},
   "outputs": [],
   "source": [
    "import matplotlib.pyplot as plt\n",
    "#plt.figure(figsize=(10,10))\n",
    "\n",
    "fig, ax = plt.subplots(figsize=(10,8))\n",
    "\n",
    "# Plot volatility versus expected return for individual stocks\n",
    "ax.scatter(x=std, y=mu,\n",
    "           color='Blue', label='Individual Stocks')\n",
    "for i, stock in enumerate(stocks):\n",
    "    ax.annotate(stock, (std[i], mu[i]))\n",
    "\n",
    "# Plot volatility versus expected return for minimum risk portfolio\n",
    "ax.scatter(x=minrisk_volatility, y=minrisk_return, color='DarkGreen')\n",
    "ax.annotate('Minimum\\nRisk\\nPortfolio', (minrisk_volatility, minrisk_return),\n",
    "            horizontalalignment='right')\n",
    "\n",
    "# Plot efficient frontier\n",
    "ax.plot(frontier[0], frontier[1], label='Efficient Frontier', color='DarkGreen')\n",
    "\n",
    "# Format and display the final plot\n",
    "ax.axis([frontier[0].min()*0.7, frontier[0].max()*1.3, mu.min()*1.2, mu.max()*1.2])\n",
    "ax.set_xlabel('Volatility (standard deviation)')\n",
    "ax.set_ylabel('Expected Return')\n",
    "ax.legend()\n",
    "ax.grid()\n",
    "plt.show()"
   ]
  }
 ],
 "metadata": {
  "kernelspec": {
   "display_name": "Python 3 (ipykernel)",
   "language": "python",
   "name": "python3"
  },
  "language_info": {
   "codemirror_mode": {
    "name": "ipython",
    "version": 3
   },
   "file_extension": ".py",
   "mimetype": "text/x-python",
   "name": "python",
   "nbconvert_exporter": "python",
   "pygments_lexer": "ipython3",
   "version": "3.10.0"
  }
 },
 "nbformat": 4,
 "nbformat_minor": 4
}
